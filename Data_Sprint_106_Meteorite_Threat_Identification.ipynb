{
  "cells": [
    {
      "cell_type": "code",
      "execution_count": null,
      "id": "4f9154dd",
      "metadata": {
        "id": "4f9154dd"
      },
      "outputs": [],
      "source": [
        "import pandas as pd\n",
        "import numpy as np"
      ]
    },
    {
      "cell_type": "code",
      "execution_count": null,
      "id": "df7053b8",
      "metadata": {
        "colab": {
          "base_uri": "https://localhost:8080/",
          "height": 539
        },
        "id": "df7053b8",
        "outputId": "bfe6b8cf-4d0e-4874-d6ce-986fb827b439"
      },
      "outputs": [
        {
          "output_type": "execute_result",
          "data": {
            "text/plain": [
              "      Absolute Magnitude  Est Dia in KM(min)  Est Dia in KM(max)  \\\n",
              "0                 26.600            0.012722            0.028447   \n",
              "1                 22.700            0.076658            0.171412   \n",
              "2                 24.000            0.042126            0.094198   \n",
              "3                 17.700            0.766576            1.714115   \n",
              "4                 21.300            0.146068            0.326618   \n",
              "...                  ...                 ...                 ...   \n",
              "3275              23.900            0.044112            0.098637   \n",
              "3276              27.300            0.009216            0.020608   \n",
              "3277              21.800            0.116026            0.259442   \n",
              "3278              24.786            0.029333            0.065590   \n",
              "3279              21.700            0.121494            0.271669   \n",
              "\n",
              "      Est Dia in M(min)  Est Dia in M(max)  Est Dia in Miles(min)  \\\n",
              "0             12.721988          28.447230               0.007905   \n",
              "1             76.657557         171.411509               0.047633   \n",
              "2             42.126461          94.197631               0.026176   \n",
              "3            766.575574        1714.115092               0.476328   \n",
              "4            146.067964         326.617897               0.090762   \n",
              "...                 ...                ...                    ...   \n",
              "3275          44.111820          98.637028               0.027410   \n",
              "3276           9.216265          20.608196               0.005727   \n",
              "3277         116.025908         259.441818               0.072095   \n",
              "3278          29.332898          65.590355               0.018227   \n",
              "3279         121.494041         271.668934               0.075493   \n",
              "\n",
              "      Est Dia in Miles(max)  Est Dia in Feet(min)  Est Dia in Feet(max)  \\\n",
              "0                  0.017676             41.738807             93.330809   \n",
              "1                  0.106510            251.501180            562.373736   \n",
              "2                  0.058532            138.210178            309.047354   \n",
              "3                  1.065101           2515.011805           5623.737359   \n",
              "4                  0.202951            479.225620           1071.581063   \n",
              "...                     ...                   ...                   ...   \n",
              "3275               0.061290            144.723824            323.612307   \n",
              "3276               0.012805             30.237092             67.612194   \n",
              "3277               0.161210            380.662441            851.187094   \n",
              "3278               0.040756             96.236546            215.191459   \n",
              "3279               0.168807            398.602509            891.302306   \n",
              "\n",
              "      Relative Velocity km per sec  ...  Inclination  Asc Node Longitude  \\\n",
              "0                         7.648194  ...     7.583001          347.475804   \n",
              "1                        19.142824  ...     4.710039          176.203926   \n",
              "2                         7.819970  ...    11.609153          146.961250   \n",
              "3                         2.335267  ...     7.012588          354.475923   \n",
              "4                        30.994787  ...    60.900589          219.323712   \n",
              "...                            ...  ...          ...                 ...   \n",
              "3275                     24.155625  ...     5.855362          232.155178   \n",
              "3276                     14.509560  ...    13.442772          304.342483   \n",
              "3277                      1.956978  ...     3.533539            0.907558   \n",
              "3278                     22.041172  ...     9.048140          340.230154   \n",
              "3279                     21.490725  ...    39.552965           51.236021   \n",
              "\n",
              "      Orbital Period  Perihelion Distance  Perihelion Arg  Aphelion Dist  \\\n",
              "0         443.098049             0.890218      245.671594       1.384692   \n",
              "1        1107.448956             0.984464      175.628191       3.205210   \n",
              "2         317.222445             0.828952      195.589585       0.991616   \n",
              "3        1036.204307             1.259659      105.208870       2.748343   \n",
              "4        2174.260704             1.277179      218.504766       5.291914   \n",
              "...              ...                  ...             ...            ...   \n",
              "3275      705.483234             0.906946      109.237999       2.194914   \n",
              "3276      476.031102             0.911101      236.618185       1.475178   \n",
              "3277      899.682406             1.202510      142.889139       2.445230   \n",
              "3278      347.566153             0.645922      113.680330       1.288967   \n",
              "3279      551.555058             1.086602      359.675847       1.545828   \n",
              "\n",
              "      Perihelion Time  Mean Anomaly  Mean Motion  Hazardous  \n",
              "0        2.457846e+06    125.647826     0.812461          0  \n",
              "1        2.457653e+06    113.100725     0.325071          0  \n",
              "2        2.458100e+06    246.773198     1.134850          0  \n",
              "3        2.457681e+06    111.130550     0.347422          0  \n",
              "4        2.458459e+06    284.064157     0.165574          0  \n",
              "...               ...           ...          ...        ...  \n",
              "3275     2.454727e+06     26.531272     0.510289          0  \n",
              "3276     2.458158e+06    240.794163     0.756253          0  \n",
              "3277     2.458115e+06    314.319554     0.400141          0  \n",
              "3278     2.458073e+06    284.853083     1.035774          0  \n",
              "3279     2.458257e+06    192.290111     0.652700          0  \n",
              "\n",
              "[3280 rows x 33 columns]"
            ],
            "text/html": [
              "\n",
              "  <div id=\"df-fa621eb9-3e5f-42a0-980e-3f2b14c5e822\">\n",
              "    <div class=\"colab-df-container\">\n",
              "      <div>\n",
              "<style scoped>\n",
              "    .dataframe tbody tr th:only-of-type {\n",
              "        vertical-align: middle;\n",
              "    }\n",
              "\n",
              "    .dataframe tbody tr th {\n",
              "        vertical-align: top;\n",
              "    }\n",
              "\n",
              "    .dataframe thead th {\n",
              "        text-align: right;\n",
              "    }\n",
              "</style>\n",
              "<table border=\"1\" class=\"dataframe\">\n",
              "  <thead>\n",
              "    <tr style=\"text-align: right;\">\n",
              "      <th></th>\n",
              "      <th>Absolute Magnitude</th>\n",
              "      <th>Est Dia in KM(min)</th>\n",
              "      <th>Est Dia in KM(max)</th>\n",
              "      <th>Est Dia in M(min)</th>\n",
              "      <th>Est Dia in M(max)</th>\n",
              "      <th>Est Dia in Miles(min)</th>\n",
              "      <th>Est Dia in Miles(max)</th>\n",
              "      <th>Est Dia in Feet(min)</th>\n",
              "      <th>Est Dia in Feet(max)</th>\n",
              "      <th>Relative Velocity km per sec</th>\n",
              "      <th>...</th>\n",
              "      <th>Inclination</th>\n",
              "      <th>Asc Node Longitude</th>\n",
              "      <th>Orbital Period</th>\n",
              "      <th>Perihelion Distance</th>\n",
              "      <th>Perihelion Arg</th>\n",
              "      <th>Aphelion Dist</th>\n",
              "      <th>Perihelion Time</th>\n",
              "      <th>Mean Anomaly</th>\n",
              "      <th>Mean Motion</th>\n",
              "      <th>Hazardous</th>\n",
              "    </tr>\n",
              "  </thead>\n",
              "  <tbody>\n",
              "    <tr>\n",
              "      <th>0</th>\n",
              "      <td>26.600</td>\n",
              "      <td>0.012722</td>\n",
              "      <td>0.028447</td>\n",
              "      <td>12.721988</td>\n",
              "      <td>28.447230</td>\n",
              "      <td>0.007905</td>\n",
              "      <td>0.017676</td>\n",
              "      <td>41.738807</td>\n",
              "      <td>93.330809</td>\n",
              "      <td>7.648194</td>\n",
              "      <td>...</td>\n",
              "      <td>7.583001</td>\n",
              "      <td>347.475804</td>\n",
              "      <td>443.098049</td>\n",
              "      <td>0.890218</td>\n",
              "      <td>245.671594</td>\n",
              "      <td>1.384692</td>\n",
              "      <td>2.457846e+06</td>\n",
              "      <td>125.647826</td>\n",
              "      <td>0.812461</td>\n",
              "      <td>0</td>\n",
              "    </tr>\n",
              "    <tr>\n",
              "      <th>1</th>\n",
              "      <td>22.700</td>\n",
              "      <td>0.076658</td>\n",
              "      <td>0.171412</td>\n",
              "      <td>76.657557</td>\n",
              "      <td>171.411509</td>\n",
              "      <td>0.047633</td>\n",
              "      <td>0.106510</td>\n",
              "      <td>251.501180</td>\n",
              "      <td>562.373736</td>\n",
              "      <td>19.142824</td>\n",
              "      <td>...</td>\n",
              "      <td>4.710039</td>\n",
              "      <td>176.203926</td>\n",
              "      <td>1107.448956</td>\n",
              "      <td>0.984464</td>\n",
              "      <td>175.628191</td>\n",
              "      <td>3.205210</td>\n",
              "      <td>2.457653e+06</td>\n",
              "      <td>113.100725</td>\n",
              "      <td>0.325071</td>\n",
              "      <td>0</td>\n",
              "    </tr>\n",
              "    <tr>\n",
              "      <th>2</th>\n",
              "      <td>24.000</td>\n",
              "      <td>0.042126</td>\n",
              "      <td>0.094198</td>\n",
              "      <td>42.126461</td>\n",
              "      <td>94.197631</td>\n",
              "      <td>0.026176</td>\n",
              "      <td>0.058532</td>\n",
              "      <td>138.210178</td>\n",
              "      <td>309.047354</td>\n",
              "      <td>7.819970</td>\n",
              "      <td>...</td>\n",
              "      <td>11.609153</td>\n",
              "      <td>146.961250</td>\n",
              "      <td>317.222445</td>\n",
              "      <td>0.828952</td>\n",
              "      <td>195.589585</td>\n",
              "      <td>0.991616</td>\n",
              "      <td>2.458100e+06</td>\n",
              "      <td>246.773198</td>\n",
              "      <td>1.134850</td>\n",
              "      <td>0</td>\n",
              "    </tr>\n",
              "    <tr>\n",
              "      <th>3</th>\n",
              "      <td>17.700</td>\n",
              "      <td>0.766576</td>\n",
              "      <td>1.714115</td>\n",
              "      <td>766.575574</td>\n",
              "      <td>1714.115092</td>\n",
              "      <td>0.476328</td>\n",
              "      <td>1.065101</td>\n",
              "      <td>2515.011805</td>\n",
              "      <td>5623.737359</td>\n",
              "      <td>2.335267</td>\n",
              "      <td>...</td>\n",
              "      <td>7.012588</td>\n",
              "      <td>354.475923</td>\n",
              "      <td>1036.204307</td>\n",
              "      <td>1.259659</td>\n",
              "      <td>105.208870</td>\n",
              "      <td>2.748343</td>\n",
              "      <td>2.457681e+06</td>\n",
              "      <td>111.130550</td>\n",
              "      <td>0.347422</td>\n",
              "      <td>0</td>\n",
              "    </tr>\n",
              "    <tr>\n",
              "      <th>4</th>\n",
              "      <td>21.300</td>\n",
              "      <td>0.146068</td>\n",
              "      <td>0.326618</td>\n",
              "      <td>146.067964</td>\n",
              "      <td>326.617897</td>\n",
              "      <td>0.090762</td>\n",
              "      <td>0.202951</td>\n",
              "      <td>479.225620</td>\n",
              "      <td>1071.581063</td>\n",
              "      <td>30.994787</td>\n",
              "      <td>...</td>\n",
              "      <td>60.900589</td>\n",
              "      <td>219.323712</td>\n",
              "      <td>2174.260704</td>\n",
              "      <td>1.277179</td>\n",
              "      <td>218.504766</td>\n",
              "      <td>5.291914</td>\n",
              "      <td>2.458459e+06</td>\n",
              "      <td>284.064157</td>\n",
              "      <td>0.165574</td>\n",
              "      <td>0</td>\n",
              "    </tr>\n",
              "    <tr>\n",
              "      <th>...</th>\n",
              "      <td>...</td>\n",
              "      <td>...</td>\n",
              "      <td>...</td>\n",
              "      <td>...</td>\n",
              "      <td>...</td>\n",
              "      <td>...</td>\n",
              "      <td>...</td>\n",
              "      <td>...</td>\n",
              "      <td>...</td>\n",
              "      <td>...</td>\n",
              "      <td>...</td>\n",
              "      <td>...</td>\n",
              "      <td>...</td>\n",
              "      <td>...</td>\n",
              "      <td>...</td>\n",
              "      <td>...</td>\n",
              "      <td>...</td>\n",
              "      <td>...</td>\n",
              "      <td>...</td>\n",
              "      <td>...</td>\n",
              "      <td>...</td>\n",
              "    </tr>\n",
              "    <tr>\n",
              "      <th>3275</th>\n",
              "      <td>23.900</td>\n",
              "      <td>0.044112</td>\n",
              "      <td>0.098637</td>\n",
              "      <td>44.111820</td>\n",
              "      <td>98.637028</td>\n",
              "      <td>0.027410</td>\n",
              "      <td>0.061290</td>\n",
              "      <td>144.723824</td>\n",
              "      <td>323.612307</td>\n",
              "      <td>24.155625</td>\n",
              "      <td>...</td>\n",
              "      <td>5.855362</td>\n",
              "      <td>232.155178</td>\n",
              "      <td>705.483234</td>\n",
              "      <td>0.906946</td>\n",
              "      <td>109.237999</td>\n",
              "      <td>2.194914</td>\n",
              "      <td>2.454727e+06</td>\n",
              "      <td>26.531272</td>\n",
              "      <td>0.510289</td>\n",
              "      <td>0</td>\n",
              "    </tr>\n",
              "    <tr>\n",
              "      <th>3276</th>\n",
              "      <td>27.300</td>\n",
              "      <td>0.009216</td>\n",
              "      <td>0.020608</td>\n",
              "      <td>9.216265</td>\n",
              "      <td>20.608196</td>\n",
              "      <td>0.005727</td>\n",
              "      <td>0.012805</td>\n",
              "      <td>30.237092</td>\n",
              "      <td>67.612194</td>\n",
              "      <td>14.509560</td>\n",
              "      <td>...</td>\n",
              "      <td>13.442772</td>\n",
              "      <td>304.342483</td>\n",
              "      <td>476.031102</td>\n",
              "      <td>0.911101</td>\n",
              "      <td>236.618185</td>\n",
              "      <td>1.475178</td>\n",
              "      <td>2.458158e+06</td>\n",
              "      <td>240.794163</td>\n",
              "      <td>0.756253</td>\n",
              "      <td>0</td>\n",
              "    </tr>\n",
              "    <tr>\n",
              "      <th>3277</th>\n",
              "      <td>21.800</td>\n",
              "      <td>0.116026</td>\n",
              "      <td>0.259442</td>\n",
              "      <td>116.025908</td>\n",
              "      <td>259.441818</td>\n",
              "      <td>0.072095</td>\n",
              "      <td>0.161210</td>\n",
              "      <td>380.662441</td>\n",
              "      <td>851.187094</td>\n",
              "      <td>1.956978</td>\n",
              "      <td>...</td>\n",
              "      <td>3.533539</td>\n",
              "      <td>0.907558</td>\n",
              "      <td>899.682406</td>\n",
              "      <td>1.202510</td>\n",
              "      <td>142.889139</td>\n",
              "      <td>2.445230</td>\n",
              "      <td>2.458115e+06</td>\n",
              "      <td>314.319554</td>\n",
              "      <td>0.400141</td>\n",
              "      <td>0</td>\n",
              "    </tr>\n",
              "    <tr>\n",
              "      <th>3278</th>\n",
              "      <td>24.786</td>\n",
              "      <td>0.029333</td>\n",
              "      <td>0.065590</td>\n",
              "      <td>29.332898</td>\n",
              "      <td>65.590355</td>\n",
              "      <td>0.018227</td>\n",
              "      <td>0.040756</td>\n",
              "      <td>96.236546</td>\n",
              "      <td>215.191459</td>\n",
              "      <td>22.041172</td>\n",
              "      <td>...</td>\n",
              "      <td>9.048140</td>\n",
              "      <td>340.230154</td>\n",
              "      <td>347.566153</td>\n",
              "      <td>0.645922</td>\n",
              "      <td>113.680330</td>\n",
              "      <td>1.288967</td>\n",
              "      <td>2.458073e+06</td>\n",
              "      <td>284.853083</td>\n",
              "      <td>1.035774</td>\n",
              "      <td>0</td>\n",
              "    </tr>\n",
              "    <tr>\n",
              "      <th>3279</th>\n",
              "      <td>21.700</td>\n",
              "      <td>0.121494</td>\n",
              "      <td>0.271669</td>\n",
              "      <td>121.494041</td>\n",
              "      <td>271.668934</td>\n",
              "      <td>0.075493</td>\n",
              "      <td>0.168807</td>\n",
              "      <td>398.602509</td>\n",
              "      <td>891.302306</td>\n",
              "      <td>21.490725</td>\n",
              "      <td>...</td>\n",
              "      <td>39.552965</td>\n",
              "      <td>51.236021</td>\n",
              "      <td>551.555058</td>\n",
              "      <td>1.086602</td>\n",
              "      <td>359.675847</td>\n",
              "      <td>1.545828</td>\n",
              "      <td>2.458257e+06</td>\n",
              "      <td>192.290111</td>\n",
              "      <td>0.652700</td>\n",
              "      <td>0</td>\n",
              "    </tr>\n",
              "  </tbody>\n",
              "</table>\n",
              "<p>3280 rows × 33 columns</p>\n",
              "</div>\n",
              "      <button class=\"colab-df-convert\" onclick=\"convertToInteractive('df-fa621eb9-3e5f-42a0-980e-3f2b14c5e822')\"\n",
              "              title=\"Convert this dataframe to an interactive table.\"\n",
              "              style=\"display:none;\">\n",
              "        \n",
              "  <svg xmlns=\"http://www.w3.org/2000/svg\" height=\"24px\"viewBox=\"0 0 24 24\"\n",
              "       width=\"24px\">\n",
              "    <path d=\"M0 0h24v24H0V0z\" fill=\"none\"/>\n",
              "    <path d=\"M18.56 5.44l.94 2.06.94-2.06 2.06-.94-2.06-.94-.94-2.06-.94 2.06-2.06.94zm-11 1L8.5 8.5l.94-2.06 2.06-.94-2.06-.94L8.5 2.5l-.94 2.06-2.06.94zm10 10l.94 2.06.94-2.06 2.06-.94-2.06-.94-.94-2.06-.94 2.06-2.06.94z\"/><path d=\"M17.41 7.96l-1.37-1.37c-.4-.4-.92-.59-1.43-.59-.52 0-1.04.2-1.43.59L10.3 9.45l-7.72 7.72c-.78.78-.78 2.05 0 2.83L4 21.41c.39.39.9.59 1.41.59.51 0 1.02-.2 1.41-.59l7.78-7.78 2.81-2.81c.8-.78.8-2.07 0-2.86zM5.41 20L4 18.59l7.72-7.72 1.47 1.35L5.41 20z\"/>\n",
              "  </svg>\n",
              "      </button>\n",
              "      \n",
              "  <style>\n",
              "    .colab-df-container {\n",
              "      display:flex;\n",
              "      flex-wrap:wrap;\n",
              "      gap: 12px;\n",
              "    }\n",
              "\n",
              "    .colab-df-convert {\n",
              "      background-color: #E8F0FE;\n",
              "      border: none;\n",
              "      border-radius: 50%;\n",
              "      cursor: pointer;\n",
              "      display: none;\n",
              "      fill: #1967D2;\n",
              "      height: 32px;\n",
              "      padding: 0 0 0 0;\n",
              "      width: 32px;\n",
              "    }\n",
              "\n",
              "    .colab-df-convert:hover {\n",
              "      background-color: #E2EBFA;\n",
              "      box-shadow: 0px 1px 2px rgba(60, 64, 67, 0.3), 0px 1px 3px 1px rgba(60, 64, 67, 0.15);\n",
              "      fill: #174EA6;\n",
              "    }\n",
              "\n",
              "    [theme=dark] .colab-df-convert {\n",
              "      background-color: #3B4455;\n",
              "      fill: #D2E3FC;\n",
              "    }\n",
              "\n",
              "    [theme=dark] .colab-df-convert:hover {\n",
              "      background-color: #434B5C;\n",
              "      box-shadow: 0px 1px 3px 1px rgba(0, 0, 0, 0.15);\n",
              "      filter: drop-shadow(0px 1px 2px rgba(0, 0, 0, 0.3));\n",
              "      fill: #FFFFFF;\n",
              "    }\n",
              "  </style>\n",
              "\n",
              "      <script>\n",
              "        const buttonEl =\n",
              "          document.querySelector('#df-fa621eb9-3e5f-42a0-980e-3f2b14c5e822 button.colab-df-convert');\n",
              "        buttonEl.style.display =\n",
              "          google.colab.kernel.accessAllowed ? 'block' : 'none';\n",
              "\n",
              "        async function convertToInteractive(key) {\n",
              "          const element = document.querySelector('#df-fa621eb9-3e5f-42a0-980e-3f2b14c5e822');\n",
              "          const dataTable =\n",
              "            await google.colab.kernel.invokeFunction('convertToInteractive',\n",
              "                                                     [key], {});\n",
              "          if (!dataTable) return;\n",
              "\n",
              "          const docLinkHtml = 'Like what you see? Visit the ' +\n",
              "            '<a target=\"_blank\" href=https://colab.research.google.com/notebooks/data_table.ipynb>data table notebook</a>'\n",
              "            + ' to learn more about interactive tables.';\n",
              "          element.innerHTML = '';\n",
              "          dataTable['output_type'] = 'display_data';\n",
              "          await google.colab.output.renderOutput(dataTable, element);\n",
              "          const docLink = document.createElement('div');\n",
              "          docLink.innerHTML = docLinkHtml;\n",
              "          element.appendChild(docLink);\n",
              "        }\n",
              "      </script>\n",
              "    </div>\n",
              "  </div>\n",
              "  "
            ]
          },
          "metadata": {},
          "execution_count": 39
        }
      ],
      "source": [
        "#Load Train Dataset\n",
        "data_train = pd.read_csv(\"train_dataset.csv\")\n",
        "data_train"
      ]
    },
    {
      "cell_type": "markdown",
      "id": "0a33a4b1",
      "metadata": {
        "id": "0a33a4b1"
      },
      "source": [
        "# Explanatory Data Analysis"
      ]
    },
    {
      "cell_type": "code",
      "execution_count": null,
      "id": "2e63ee47",
      "metadata": {
        "colab": {
          "base_uri": "https://localhost:8080/"
        },
        "id": "2e63ee47",
        "outputId": "9a650ce3-21d5-41de-ee18-ba839cc45225"
      },
      "outputs": [
        {
          "output_type": "execute_result",
          "data": {
            "text/plain": [
              "(3280, 33)"
            ]
          },
          "metadata": {},
          "execution_count": 40
        }
      ],
      "source": [
        "data_train.shape"
      ]
    },
    {
      "cell_type": "code",
      "execution_count": null,
      "id": "0d88cdfb",
      "metadata": {
        "colab": {
          "base_uri": "https://localhost:8080/",
          "height": 428
        },
        "id": "0d88cdfb",
        "outputId": "41e41434-4554-41a4-d029-fb323eb6d055"
      },
      "outputs": [
        {
          "output_type": "execute_result",
          "data": {
            "text/plain": [
              "       Absolute Magnitude  Est Dia in KM(min)  Est Dia in KM(max)  \\\n",
              "count         3280.000000         3280.000000         3280.000000   \n",
              "mean            22.287687            0.197258            0.441082   \n",
              "std              2.874909            0.276904            0.619175   \n",
              "min             14.400000            0.001011            0.002260   \n",
              "25%             20.200000            0.033462            0.074824   \n",
              "50%             21.900000            0.110804            0.247765   \n",
              "75%             24.500000            0.242412            0.542051   \n",
              "max             32.100000            3.503926            7.835018   \n",
              "\n",
              "       Est Dia in M(min)  Est Dia in M(max)  Est Dia in Miles(min)  \\\n",
              "count        3280.000000        3280.000000            3280.000000   \n",
              "mean          197.257811         441.081875               0.122570   \n",
              "std           276.903528         619.175112               0.172060   \n",
              "min             1.010543           2.259644               0.000628   \n",
              "25%            33.462237          74.823838               0.020792   \n",
              "50%           110.803882         247.765013               0.068850   \n",
              "75%           242.412481         542.050786               0.150628   \n",
              "max          3503.926411        7835.017643               2.177238   \n",
              "\n",
              "       Est Dia in Miles(max)  Est Dia in Feet(min)  Est Dia in Feet(max)  \\\n",
              "count            3280.000000           3280.000000           3280.000000   \n",
              "mean                0.274075            647.171318           1447.119060   \n",
              "std                 0.384737            908.476171           2031.414475   \n",
              "min                 0.001404              3.315431              7.413530   \n",
              "25%                 0.046493            109.784247            245.485039   \n",
              "50%                 0.153954            363.529809            812.877364   \n",
              "75%                 0.336815            795.316564           1778.381902   \n",
              "max                 4.868453          11495.821927          25705.439285   \n",
              "\n",
              "       Relative Velocity km per sec  ...  Inclination  Asc Node Longitude  \\\n",
              "count                   3280.000000  ...  3280.000000         3280.000000   \n",
              "mean                      13.920372  ...    13.473183          171.349646   \n",
              "std                        7.328379  ...    10.946805          103.435107   \n",
              "min                        0.335504  ...     0.020987            0.001941   \n",
              "25%                        8.422339  ...     5.058736           81.585368   \n",
              "50%                       12.888534  ...    10.389875          172.451944   \n",
              "75%                       17.972776  ...    19.762841          252.790804   \n",
              "max                       44.633747  ...    75.406667          359.905890   \n",
              "\n",
              "       Orbital Period  Perihelion Distance  Perihelion Arg  Aphelion Dist  \\\n",
              "count     3280.000000          3280.000000     3280.000000    3280.000000   \n",
              "mean       638.009022             0.818517      184.229431       1.990773   \n",
              "std        367.985549             0.240366      103.201339       0.949144   \n",
              "min        176.557161             0.080744        0.006918       0.803765   \n",
              "25%        369.144783             0.640433       96.476530       1.273077   \n",
              "50%        508.070867             0.840137      190.594667       1.620061   \n",
              "75%        789.724437             1.000085      272.468434       2.447108   \n",
              "max       2556.242142             1.299832      359.929822       6.104579   \n",
              "\n",
              "       Perihelion Time  Mean Anomaly  Mean Motion    Hazardous  \n",
              "count     3.280000e+03   3280.000000  3280.000000  3280.000000  \n",
              "mean      2.457733e+06    182.515907     0.731585     0.160976  \n",
              "std       9.234603e+02    107.526383     0.335232     0.367564  \n",
              "min       2.450854e+06      0.003191     0.140832     0.000000  \n",
              "25%       2.457813e+06     87.305972     0.455855     0.000000  \n",
              "50%       2.457975e+06    188.482062     0.708563     0.000000  \n",
              "75%       2.458110e+06    276.559414     0.975227     0.000000  \n",
              "max       2.458822e+06    359.917991     2.039000     1.000000  \n",
              "\n",
              "[8 rows x 33 columns]"
            ],
            "text/html": [
              "\n",
              "  <div id=\"df-a74b7805-e0e5-4d9d-b3be-ddc3d87a877d\">\n",
              "    <div class=\"colab-df-container\">\n",
              "      <div>\n",
              "<style scoped>\n",
              "    .dataframe tbody tr th:only-of-type {\n",
              "        vertical-align: middle;\n",
              "    }\n",
              "\n",
              "    .dataframe tbody tr th {\n",
              "        vertical-align: top;\n",
              "    }\n",
              "\n",
              "    .dataframe thead th {\n",
              "        text-align: right;\n",
              "    }\n",
              "</style>\n",
              "<table border=\"1\" class=\"dataframe\">\n",
              "  <thead>\n",
              "    <tr style=\"text-align: right;\">\n",
              "      <th></th>\n",
              "      <th>Absolute Magnitude</th>\n",
              "      <th>Est Dia in KM(min)</th>\n",
              "      <th>Est Dia in KM(max)</th>\n",
              "      <th>Est Dia in M(min)</th>\n",
              "      <th>Est Dia in M(max)</th>\n",
              "      <th>Est Dia in Miles(min)</th>\n",
              "      <th>Est Dia in Miles(max)</th>\n",
              "      <th>Est Dia in Feet(min)</th>\n",
              "      <th>Est Dia in Feet(max)</th>\n",
              "      <th>Relative Velocity km per sec</th>\n",
              "      <th>...</th>\n",
              "      <th>Inclination</th>\n",
              "      <th>Asc Node Longitude</th>\n",
              "      <th>Orbital Period</th>\n",
              "      <th>Perihelion Distance</th>\n",
              "      <th>Perihelion Arg</th>\n",
              "      <th>Aphelion Dist</th>\n",
              "      <th>Perihelion Time</th>\n",
              "      <th>Mean Anomaly</th>\n",
              "      <th>Mean Motion</th>\n",
              "      <th>Hazardous</th>\n",
              "    </tr>\n",
              "  </thead>\n",
              "  <tbody>\n",
              "    <tr>\n",
              "      <th>count</th>\n",
              "      <td>3280.000000</td>\n",
              "      <td>3280.000000</td>\n",
              "      <td>3280.000000</td>\n",
              "      <td>3280.000000</td>\n",
              "      <td>3280.000000</td>\n",
              "      <td>3280.000000</td>\n",
              "      <td>3280.000000</td>\n",
              "      <td>3280.000000</td>\n",
              "      <td>3280.000000</td>\n",
              "      <td>3280.000000</td>\n",
              "      <td>...</td>\n",
              "      <td>3280.000000</td>\n",
              "      <td>3280.000000</td>\n",
              "      <td>3280.000000</td>\n",
              "      <td>3280.000000</td>\n",
              "      <td>3280.000000</td>\n",
              "      <td>3280.000000</td>\n",
              "      <td>3.280000e+03</td>\n",
              "      <td>3280.000000</td>\n",
              "      <td>3280.000000</td>\n",
              "      <td>3280.000000</td>\n",
              "    </tr>\n",
              "    <tr>\n",
              "      <th>mean</th>\n",
              "      <td>22.287687</td>\n",
              "      <td>0.197258</td>\n",
              "      <td>0.441082</td>\n",
              "      <td>197.257811</td>\n",
              "      <td>441.081875</td>\n",
              "      <td>0.122570</td>\n",
              "      <td>0.274075</td>\n",
              "      <td>647.171318</td>\n",
              "      <td>1447.119060</td>\n",
              "      <td>13.920372</td>\n",
              "      <td>...</td>\n",
              "      <td>13.473183</td>\n",
              "      <td>171.349646</td>\n",
              "      <td>638.009022</td>\n",
              "      <td>0.818517</td>\n",
              "      <td>184.229431</td>\n",
              "      <td>1.990773</td>\n",
              "      <td>2.457733e+06</td>\n",
              "      <td>182.515907</td>\n",
              "      <td>0.731585</td>\n",
              "      <td>0.160976</td>\n",
              "    </tr>\n",
              "    <tr>\n",
              "      <th>std</th>\n",
              "      <td>2.874909</td>\n",
              "      <td>0.276904</td>\n",
              "      <td>0.619175</td>\n",
              "      <td>276.903528</td>\n",
              "      <td>619.175112</td>\n",
              "      <td>0.172060</td>\n",
              "      <td>0.384737</td>\n",
              "      <td>908.476171</td>\n",
              "      <td>2031.414475</td>\n",
              "      <td>7.328379</td>\n",
              "      <td>...</td>\n",
              "      <td>10.946805</td>\n",
              "      <td>103.435107</td>\n",
              "      <td>367.985549</td>\n",
              "      <td>0.240366</td>\n",
              "      <td>103.201339</td>\n",
              "      <td>0.949144</td>\n",
              "      <td>9.234603e+02</td>\n",
              "      <td>107.526383</td>\n",
              "      <td>0.335232</td>\n",
              "      <td>0.367564</td>\n",
              "    </tr>\n",
              "    <tr>\n",
              "      <th>min</th>\n",
              "      <td>14.400000</td>\n",
              "      <td>0.001011</td>\n",
              "      <td>0.002260</td>\n",
              "      <td>1.010543</td>\n",
              "      <td>2.259644</td>\n",
              "      <td>0.000628</td>\n",
              "      <td>0.001404</td>\n",
              "      <td>3.315431</td>\n",
              "      <td>7.413530</td>\n",
              "      <td>0.335504</td>\n",
              "      <td>...</td>\n",
              "      <td>0.020987</td>\n",
              "      <td>0.001941</td>\n",
              "      <td>176.557161</td>\n",
              "      <td>0.080744</td>\n",
              "      <td>0.006918</td>\n",
              "      <td>0.803765</td>\n",
              "      <td>2.450854e+06</td>\n",
              "      <td>0.003191</td>\n",
              "      <td>0.140832</td>\n",
              "      <td>0.000000</td>\n",
              "    </tr>\n",
              "    <tr>\n",
              "      <th>25%</th>\n",
              "      <td>20.200000</td>\n",
              "      <td>0.033462</td>\n",
              "      <td>0.074824</td>\n",
              "      <td>33.462237</td>\n",
              "      <td>74.823838</td>\n",
              "      <td>0.020792</td>\n",
              "      <td>0.046493</td>\n",
              "      <td>109.784247</td>\n",
              "      <td>245.485039</td>\n",
              "      <td>8.422339</td>\n",
              "      <td>...</td>\n",
              "      <td>5.058736</td>\n",
              "      <td>81.585368</td>\n",
              "      <td>369.144783</td>\n",
              "      <td>0.640433</td>\n",
              "      <td>96.476530</td>\n",
              "      <td>1.273077</td>\n",
              "      <td>2.457813e+06</td>\n",
              "      <td>87.305972</td>\n",
              "      <td>0.455855</td>\n",
              "      <td>0.000000</td>\n",
              "    </tr>\n",
              "    <tr>\n",
              "      <th>50%</th>\n",
              "      <td>21.900000</td>\n",
              "      <td>0.110804</td>\n",
              "      <td>0.247765</td>\n",
              "      <td>110.803882</td>\n",
              "      <td>247.765013</td>\n",
              "      <td>0.068850</td>\n",
              "      <td>0.153954</td>\n",
              "      <td>363.529809</td>\n",
              "      <td>812.877364</td>\n",
              "      <td>12.888534</td>\n",
              "      <td>...</td>\n",
              "      <td>10.389875</td>\n",
              "      <td>172.451944</td>\n",
              "      <td>508.070867</td>\n",
              "      <td>0.840137</td>\n",
              "      <td>190.594667</td>\n",
              "      <td>1.620061</td>\n",
              "      <td>2.457975e+06</td>\n",
              "      <td>188.482062</td>\n",
              "      <td>0.708563</td>\n",
              "      <td>0.000000</td>\n",
              "    </tr>\n",
              "    <tr>\n",
              "      <th>75%</th>\n",
              "      <td>24.500000</td>\n",
              "      <td>0.242412</td>\n",
              "      <td>0.542051</td>\n",
              "      <td>242.412481</td>\n",
              "      <td>542.050786</td>\n",
              "      <td>0.150628</td>\n",
              "      <td>0.336815</td>\n",
              "      <td>795.316564</td>\n",
              "      <td>1778.381902</td>\n",
              "      <td>17.972776</td>\n",
              "      <td>...</td>\n",
              "      <td>19.762841</td>\n",
              "      <td>252.790804</td>\n",
              "      <td>789.724437</td>\n",
              "      <td>1.000085</td>\n",
              "      <td>272.468434</td>\n",
              "      <td>2.447108</td>\n",
              "      <td>2.458110e+06</td>\n",
              "      <td>276.559414</td>\n",
              "      <td>0.975227</td>\n",
              "      <td>0.000000</td>\n",
              "    </tr>\n",
              "    <tr>\n",
              "      <th>max</th>\n",
              "      <td>32.100000</td>\n",
              "      <td>3.503926</td>\n",
              "      <td>7.835018</td>\n",
              "      <td>3503.926411</td>\n",
              "      <td>7835.017643</td>\n",
              "      <td>2.177238</td>\n",
              "      <td>4.868453</td>\n",
              "      <td>11495.821927</td>\n",
              "      <td>25705.439285</td>\n",
              "      <td>44.633747</td>\n",
              "      <td>...</td>\n",
              "      <td>75.406667</td>\n",
              "      <td>359.905890</td>\n",
              "      <td>2556.242142</td>\n",
              "      <td>1.299832</td>\n",
              "      <td>359.929822</td>\n",
              "      <td>6.104579</td>\n",
              "      <td>2.458822e+06</td>\n",
              "      <td>359.917991</td>\n",
              "      <td>2.039000</td>\n",
              "      <td>1.000000</td>\n",
              "    </tr>\n",
              "  </tbody>\n",
              "</table>\n",
              "<p>8 rows × 33 columns</p>\n",
              "</div>\n",
              "      <button class=\"colab-df-convert\" onclick=\"convertToInteractive('df-a74b7805-e0e5-4d9d-b3be-ddc3d87a877d')\"\n",
              "              title=\"Convert this dataframe to an interactive table.\"\n",
              "              style=\"display:none;\">\n",
              "        \n",
              "  <svg xmlns=\"http://www.w3.org/2000/svg\" height=\"24px\"viewBox=\"0 0 24 24\"\n",
              "       width=\"24px\">\n",
              "    <path d=\"M0 0h24v24H0V0z\" fill=\"none\"/>\n",
              "    <path d=\"M18.56 5.44l.94 2.06.94-2.06 2.06-.94-2.06-.94-.94-2.06-.94 2.06-2.06.94zm-11 1L8.5 8.5l.94-2.06 2.06-.94-2.06-.94L8.5 2.5l-.94 2.06-2.06.94zm10 10l.94 2.06.94-2.06 2.06-.94-2.06-.94-.94-2.06-.94 2.06-2.06.94z\"/><path d=\"M17.41 7.96l-1.37-1.37c-.4-.4-.92-.59-1.43-.59-.52 0-1.04.2-1.43.59L10.3 9.45l-7.72 7.72c-.78.78-.78 2.05 0 2.83L4 21.41c.39.39.9.59 1.41.59.51 0 1.02-.2 1.41-.59l7.78-7.78 2.81-2.81c.8-.78.8-2.07 0-2.86zM5.41 20L4 18.59l7.72-7.72 1.47 1.35L5.41 20z\"/>\n",
              "  </svg>\n",
              "      </button>\n",
              "      \n",
              "  <style>\n",
              "    .colab-df-container {\n",
              "      display:flex;\n",
              "      flex-wrap:wrap;\n",
              "      gap: 12px;\n",
              "    }\n",
              "\n",
              "    .colab-df-convert {\n",
              "      background-color: #E8F0FE;\n",
              "      border: none;\n",
              "      border-radius: 50%;\n",
              "      cursor: pointer;\n",
              "      display: none;\n",
              "      fill: #1967D2;\n",
              "      height: 32px;\n",
              "      padding: 0 0 0 0;\n",
              "      width: 32px;\n",
              "    }\n",
              "\n",
              "    .colab-df-convert:hover {\n",
              "      background-color: #E2EBFA;\n",
              "      box-shadow: 0px 1px 2px rgba(60, 64, 67, 0.3), 0px 1px 3px 1px rgba(60, 64, 67, 0.15);\n",
              "      fill: #174EA6;\n",
              "    }\n",
              "\n",
              "    [theme=dark] .colab-df-convert {\n",
              "      background-color: #3B4455;\n",
              "      fill: #D2E3FC;\n",
              "    }\n",
              "\n",
              "    [theme=dark] .colab-df-convert:hover {\n",
              "      background-color: #434B5C;\n",
              "      box-shadow: 0px 1px 3px 1px rgba(0, 0, 0, 0.15);\n",
              "      filter: drop-shadow(0px 1px 2px rgba(0, 0, 0, 0.3));\n",
              "      fill: #FFFFFF;\n",
              "    }\n",
              "  </style>\n",
              "\n",
              "      <script>\n",
              "        const buttonEl =\n",
              "          document.querySelector('#df-a74b7805-e0e5-4d9d-b3be-ddc3d87a877d button.colab-df-convert');\n",
              "        buttonEl.style.display =\n",
              "          google.colab.kernel.accessAllowed ? 'block' : 'none';\n",
              "\n",
              "        async function convertToInteractive(key) {\n",
              "          const element = document.querySelector('#df-a74b7805-e0e5-4d9d-b3be-ddc3d87a877d');\n",
              "          const dataTable =\n",
              "            await google.colab.kernel.invokeFunction('convertToInteractive',\n",
              "                                                     [key], {});\n",
              "          if (!dataTable) return;\n",
              "\n",
              "          const docLinkHtml = 'Like what you see? Visit the ' +\n",
              "            '<a target=\"_blank\" href=https://colab.research.google.com/notebooks/data_table.ipynb>data table notebook</a>'\n",
              "            + ' to learn more about interactive tables.';\n",
              "          element.innerHTML = '';\n",
              "          dataTable['output_type'] = 'display_data';\n",
              "          await google.colab.output.renderOutput(dataTable, element);\n",
              "          const docLink = document.createElement('div');\n",
              "          docLink.innerHTML = docLinkHtml;\n",
              "          element.appendChild(docLink);\n",
              "        }\n",
              "      </script>\n",
              "    </div>\n",
              "  </div>\n",
              "  "
            ]
          },
          "metadata": {},
          "execution_count": 41
        }
      ],
      "source": [
        "data_train.describe()"
      ]
    },
    {
      "cell_type": "code",
      "execution_count": null,
      "id": "c485f054",
      "metadata": {
        "colab": {
          "base_uri": "https://localhost:8080/"
        },
        "id": "c485f054",
        "outputId": "0517b906-a924-42aa-f601-293c66261e2e"
      },
      "outputs": [
        {
          "output_type": "execute_result",
          "data": {
            "text/plain": [
              "Absolute Magnitude              0\n",
              "Est Dia in KM(min)              0\n",
              "Est Dia in KM(max)              0\n",
              "Est Dia in M(min)               0\n",
              "Est Dia in M(max)               0\n",
              "Est Dia in Miles(min)           0\n",
              "Est Dia in Miles(max)           0\n",
              "Est Dia in Feet(min)            0\n",
              "Est Dia in Feet(max)            0\n",
              "Relative Velocity km per sec    0\n",
              "Relative Velocity km per hr     0\n",
              "Miles per hour                  0\n",
              "Miss Dist.(Astronomical)        0\n",
              "Miss Dist.(lunar)               0\n",
              "Miss Dist.(kilometers)          0\n",
              "Miss Dist.(miles)               0\n",
              "Orbit ID                        0\n",
              "Orbit Uncertainity              0\n",
              "Minimum Orbit Intersection      0\n",
              "Jupiter Tisserand Invariant     0\n",
              "Epoch Osculation                0\n",
              "Eccentricity                    0\n",
              "Semi Major Axis                 0\n",
              "Inclination                     0\n",
              "Asc Node Longitude              0\n",
              "Orbital Period                  0\n",
              "Perihelion Distance             0\n",
              "Perihelion Arg                  0\n",
              "Aphelion Dist                   0\n",
              "Perihelion Time                 0\n",
              "Mean Anomaly                    0\n",
              "Mean Motion                     0\n",
              "Hazardous                       0\n",
              "dtype: int64"
            ]
          },
          "metadata": {},
          "execution_count": 42
        }
      ],
      "source": [
        "data_train.isnull().sum()"
      ]
    },
    {
      "cell_type": "markdown",
      "id": "ae0020b5",
      "metadata": {
        "id": "ae0020b5"
      },
      "source": [
        "The dataset have shape (3280, 33). It means the data have 3280 data with 33 features. There is not any missing values. "
      ]
    },
    {
      "cell_type": "code",
      "execution_count": null,
      "id": "9205157a",
      "metadata": {
        "colab": {
          "base_uri": "https://localhost:8080/"
        },
        "id": "9205157a",
        "outputId": "f9a9adfc-09d9-4691-cc7c-f1f056ca9bec"
      },
      "outputs": [
        {
          "output_type": "execute_result",
          "data": {
            "text/plain": [
              "Orbit Uncertainity             -0.326615\n",
              "Absolute Magnitude             -0.326416\n",
              "Minimum Orbit Intersection     -0.292193\n",
              "Perihelion Distance            -0.202460\n",
              "Jupiter Tisserand Invariant    -0.017197\n",
              "Perihelion Arg                 -0.006480\n",
              "Mean Motion                    -0.000756\n",
              "Orbital Period                  0.000625\n",
              "Semi Major Axis                 0.001562\n",
              "Inclination                     0.005087\n",
              "Asc Node Longitude              0.020257\n",
              "Miss Dist.(Astronomical)        0.032267\n",
              "Miss Dist.(miles)               0.032267\n",
              "Miss Dist.(lunar)               0.032267\n",
              "Miss Dist.(kilometers)          0.032267\n",
              "Perihelion Time                 0.035654\n",
              "Epoch Osculation                0.039864\n",
              "Mean Anomaly                    0.046276\n",
              "Aphelion Dist                   0.052986\n",
              "Est Dia in Miles(min)           0.174192\n",
              "Est Dia in KM(min)              0.174192\n",
              "Est Dia in KM(max)              0.174192\n",
              "Est Dia in Feet(min)            0.174192\n",
              "Est Dia in Feet(max)            0.174192\n",
              "Est Dia in M(max)               0.174192\n",
              "Est Dia in M(min)               0.174192\n",
              "Est Dia in Miles(max)           0.174192\n",
              "Relative Velocity km per sec    0.180651\n",
              "Miles per hour                  0.180651\n",
              "Relative Velocity km per hr     0.180651\n",
              "Eccentricity                    0.186522\n",
              "Orbit ID                        0.255120\n",
              "Hazardous                       1.000000\n",
              "Name: Hazardous, dtype: float64"
            ]
          },
          "metadata": {},
          "execution_count": 43
        }
      ],
      "source": [
        "#Checking the correlation od various columns to the target columns\n",
        "corr_matrix = data_train.corr()\n",
        "corr_matrix['Hazardous'].sort_values(ascending=True)"
      ]
    },
    {
      "cell_type": "markdown",
      "id": "c6697055",
      "metadata": {
        "id": "c6697055"
      },
      "source": [
        "There are seven columns that weaker that the others features."
      ]
    },
    {
      "cell_type": "markdown",
      "id": "c6d68f08",
      "metadata": {
        "id": "c6d68f08"
      },
      "source": [
        "# Separating Input Features and Output Features"
      ]
    },
    {
      "cell_type": "code",
      "execution_count": null,
      "id": "5125b656",
      "metadata": {
        "id": "5125b656"
      },
      "outputs": [],
      "source": [
        "X = data_train.drop(\"Hazardous\",axis = 1)\n",
        "y = data_train.Hazardous"
      ]
    },
    {
      "cell_type": "code",
      "execution_count": null,
      "id": "28d89bed",
      "metadata": {
        "id": "28d89bed"
      },
      "outputs": [],
      "source": [
        "from sklearn.model_selection import train_test_split\n",
        "X_train, X_test, y_train, y_test = train_test_split(X, y, test_size=0.3)"
      ]
    },
    {
      "cell_type": "code",
      "execution_count": null,
      "id": "a82ff27c",
      "metadata": {
        "id": "a82ff27c"
      },
      "outputs": [],
      "source": [
        "from sklearn.preprocessing import LabelEncoder, StandardScaler\n",
        "scaler = StandardScaler().fit(X_train)\n",
        "X_train = scaler.transform(X_train)\n",
        "X_test = scaler.transform(X_test)"
      ]
    },
    {
      "cell_type": "markdown",
      "id": "471f358e",
      "metadata": {
        "id": "471f358e"
      },
      "source": [
        "# Predicting Model"
      ]
    },
    {
      "cell_type": "code",
      "execution_count": null,
      "id": "ecbb9dcf",
      "metadata": {
        "id": "ecbb9dcf"
      },
      "outputs": [],
      "source": [
        "from sklearn.metrics import confusion_matrix, precision_score, recall_score, accuracy_score, f1_score, precision_recall_curve, roc_auc_score, roc_curve"
      ]
    },
    {
      "cell_type": "markdown",
      "id": "4b85a2b3",
      "metadata": {
        "id": "4b85a2b3"
      },
      "source": [
        "## Using Logistic Regression"
      ]
    },
    {
      "cell_type": "code",
      "execution_count": null,
      "id": "ea2bb21c",
      "metadata": {
        "id": "ea2bb21c"
      },
      "outputs": [],
      "source": [
        "from sklearn.linear_model import LogisticRegression\n",
        "reg = LogisticRegression()\n",
        "reg.fit(X_train, y_train)\n",
        "y_pred_1 = reg.predict(X_test)"
      ]
    },
    {
      "cell_type": "code",
      "execution_count": null,
      "id": "3b86dcbc",
      "metadata": {
        "colab": {
          "base_uri": "https://localhost:8080/"
        },
        "id": "3b86dcbc",
        "outputId": "31a4085d-3eaa-46dc-d22e-e9997bbff43d"
      },
      "outputs": [
        {
          "output_type": "stream",
          "name": "stdout",
          "text": [
            "Accuracy score 0.9502032520325203\n"
          ]
        }
      ],
      "source": [
        "from sklearn.metrics import accuracy_score\n",
        "print('Accuracy score',accuracy_score(y_pred_1,y_test))"
      ]
    },
    {
      "cell_type": "markdown",
      "id": "8a49f698",
      "metadata": {
        "id": "8a49f698"
      },
      "source": [
        "## Using SGD Classifier\n",
        "This estimator implements regularized linear models with stochastic gradient descent (SGD) learning: the gradient of the loss is estimated each sample at a time and the model is updated along the way with a decreasing strength schedule (aka learning rate)"
      ]
    },
    {
      "cell_type": "code",
      "execution_count": null,
      "id": "33083a53",
      "metadata": {
        "id": "33083a53"
      },
      "outputs": [],
      "source": [
        "from sklearn.linear_model import SGDClassifier\n",
        "sgd = SGDClassifier(random_state=42)\n",
        "sgd.fit(X_train, y_train)\n",
        "y_pred_2 = sgd.predict(X_test)"
      ]
    },
    {
      "cell_type": "code",
      "execution_count": null,
      "id": "123146c9",
      "metadata": {
        "colab": {
          "base_uri": "https://localhost:8080/"
        },
        "id": "123146c9",
        "outputId": "c7a30635-9936-44fd-83c3-f1fa7cc25f00"
      },
      "outputs": [
        {
          "output_type": "stream",
          "name": "stdout",
          "text": [
            "Recall Score 0.8728323699421965\n",
            "Precision Score 0.8342541436464088\n",
            "Accuracy Score 0.9471544715447154\n"
          ]
        }
      ],
      "source": [
        "print('Recall Score',recall_score(y_pred_2,y_test))\n",
        "print('Precision Score', precision_score(y_pred_2,y_test))\n",
        "print('Accuracy Score', accuracy_score(y_pred_2,y_test))"
      ]
    },
    {
      "cell_type": "markdown",
      "id": "b5d287f0",
      "metadata": {
        "id": "b5d287f0"
      },
      "source": [
        "## Using Random Forest Classifier"
      ]
    },
    {
      "cell_type": "code",
      "execution_count": null,
      "id": "6c00ae5b",
      "metadata": {
        "id": "6c00ae5b"
      },
      "outputs": [],
      "source": [
        "from sklearn.model_selection import cross_val_score, cross_val_predict\n",
        "from sklearn.ensemble import RandomForestClassifier\n",
        "\n",
        "forest_clf = RandomForestClassifier(n_estimators=100, random_state=42)\n",
        "forest_clf.fit(X_train, y_train)\n",
        "y_probas_forest = cross_val_predict(forest_clf, X_train, y_train, cv=3,method=\"predict_proba\")"
      ]
    },
    {
      "cell_type": "code",
      "execution_count": null,
      "id": "12bfc7bd",
      "metadata": {
        "colab": {
          "base_uri": "https://localhost:8080/"
        },
        "id": "12bfc7bd",
        "outputId": "69050dd2-37c8-402d-96db-8fea753477a6"
      },
      "outputs": [
        {
          "output_type": "execute_result",
          "data": {
            "text/plain": [
              "1.0"
            ]
          },
          "metadata": {},
          "execution_count": 53
        }
      ],
      "source": [
        "y_train_pred_forest = cross_val_predict(forest_clf, X_train, y_train, cv=3)\n",
        "precision_score(y_train, y_train_pred_forest)"
      ]
    },
    {
      "cell_type": "code",
      "execution_count": null,
      "id": "762ca62e",
      "metadata": {
        "colab": {
          "base_uri": "https://localhost:8080/"
        },
        "id": "762ca62e",
        "outputId": "d7ec7858-85b2-4676-a698-b1d86c7f6e70"
      },
      "outputs": [
        {
          "output_type": "execute_result",
          "data": {
            "text/plain": [
              "array([[1949,    0],\n",
              "       [   8,  339]])"
            ]
          },
          "metadata": {},
          "execution_count": 54
        }
      ],
      "source": [
        "#Confusion matrix on train dataset\n",
        "confusion_matrix(y_train, y_train_pred_forest)"
      ]
    },
    {
      "cell_type": "code",
      "execution_count": null,
      "id": "4caef98f",
      "metadata": {
        "colab": {
          "base_uri": "https://localhost:8080/"
        },
        "id": "4caef98f",
        "outputId": "efa6948a-9100-485a-f6a6-e81907f72813"
      },
      "outputs": [
        {
          "output_type": "stream",
          "name": "stdout",
          "text": [
            "Recall Score 0.9769452449567724\n",
            "Accuracy Score 0.9965156794425087\n"
          ]
        }
      ],
      "source": [
        "print('Recall Score', recall_score(y_train, y_train_pred_forest))\n",
        "print('Accuracy Score', accuracy_score(y_train, y_train_pred_forest))"
      ]
    },
    {
      "cell_type": "code",
      "execution_count": null,
      "id": "724d907e",
      "metadata": {
        "id": "724d907e"
      },
      "outputs": [],
      "source": [
        "#Predicting with test set\n",
        "yf_pred = forest_clf.predict(X_test)"
      ]
    },
    {
      "cell_type": "code",
      "execution_count": null,
      "id": "d6cceed7",
      "metadata": {
        "colab": {
          "base_uri": "https://localhost:8080/"
        },
        "id": "d6cceed7",
        "outputId": "2c7b82b0-71cf-4301-8591-23c116e3f2f7"
      },
      "outputs": [
        {
          "output_type": "execute_result",
          "data": {
            "text/plain": [
              "0.9969512195121951"
            ]
          },
          "metadata": {},
          "execution_count": 57
        }
      ],
      "source": [
        "#Displaying the accuracy score for the test set\n",
        "accuracy_score(y_test, yf_pred)"
      ]
    },
    {
      "cell_type": "markdown",
      "id": "7e5509b1",
      "metadata": {
        "id": "7e5509b1"
      },
      "source": [
        "## Using KNN"
      ]
    },
    {
      "cell_type": "code",
      "execution_count": null,
      "id": "d18727f0",
      "metadata": {
        "id": "d18727f0"
      },
      "outputs": [],
      "source": [
        "from sklearn.neighbors import KNeighborsClassifier\n",
        "knn = KNeighborsClassifier(n_neighbors=2)\n",
        "knn.fit(X_train, y_train)\n",
        "y_pred = knn.predict(X_test)"
      ]
    },
    {
      "cell_type": "code",
      "execution_count": null,
      "id": "45e103d2",
      "metadata": {
        "colab": {
          "base_uri": "https://localhost:8080/"
        },
        "id": "45e103d2",
        "outputId": "268960e9-df9b-439e-d415-7aa95ce6a328"
      },
      "outputs": [
        {
          "output_type": "execute_result",
          "data": {
            "text/plain": [
              "0.8516260162601627"
            ]
          },
          "metadata": {},
          "execution_count": 59
        }
      ],
      "source": [
        "#Displaying the accuracy score for the test set\n",
        "accuracy_score(y_test, y_pred)"
      ]
    },
    {
      "cell_type": "markdown",
      "id": "ba87c325",
      "metadata": {
        "id": "ba87c325"
      },
      "source": [
        "## Using Naive Bayes"
      ]
    },
    {
      "cell_type": "code",
      "execution_count": null,
      "id": "ea3ccd15",
      "metadata": {
        "id": "ea3ccd15"
      },
      "outputs": [],
      "source": [
        "from sklearn.naive_bayes import GaussianNB\n",
        "gnb = GaussianNB()\n",
        "gnb.fit(X_train, y_train)\n",
        "y_pred = gnb.predict(X_test)"
      ]
    },
    {
      "cell_type": "code",
      "execution_count": null,
      "id": "135d61b9",
      "metadata": {
        "colab": {
          "base_uri": "https://localhost:8080/"
        },
        "id": "135d61b9",
        "outputId": "a154e484-ba80-49a5-b606-4b05fe059c11"
      },
      "outputs": [
        {
          "output_type": "execute_result",
          "data": {
            "text/plain": [
              "0.9085365853658537"
            ]
          },
          "metadata": {},
          "execution_count": 61
        }
      ],
      "source": [
        "#Displaying the accuracy score for the test set\n",
        "accuracy_score(y_test, y_pred)"
      ]
    },
    {
      "cell_type": "markdown",
      "id": "95c327cc",
      "metadata": {
        "id": "95c327cc"
      },
      "source": [
        "## Using MLP"
      ]
    },
    {
      "cell_type": "code",
      "execution_count": null,
      "id": "84574e55",
      "metadata": {
        "id": "84574e55"
      },
      "outputs": [],
      "source": [
        "from sklearn.neural_network import MLPRegressor\n",
        "\n",
        "regr = MLPRegressor(random_state = 1, max_iter = 500).fit(X_train, y_train)"
      ]
    },
    {
      "cell_type": "code",
      "execution_count": null,
      "id": "b26f1b06",
      "metadata": {
        "colab": {
          "base_uri": "https://localhost:8080/"
        },
        "id": "b26f1b06",
        "outputId": "bbab1fad-e447-4af0-f61b-08a31467e84e"
      },
      "outputs": [
        {
          "output_type": "execute_result",
          "data": {
            "text/plain": [
              "0.77169884010367"
            ]
          },
          "metadata": {},
          "execution_count": 63
        }
      ],
      "source": [
        "#Prediksi data test\n",
        "regr.predict(X_test[:2])\n",
        "pred = regr.score(X_test, y_test)\n",
        "pred"
      ]
    },
    {
      "cell_type": "code",
      "execution_count": null,
      "id": "b56bce14",
      "metadata": {
        "colab": {
          "base_uri": "https://localhost:8080/"
        },
        "id": "b56bce14",
        "outputId": "b3d5fdfe-1d31-43e7-fe43-df1b7e3c6a85"
      },
      "outputs": [
        {
          "output_type": "execute_result",
          "data": {
            "text/plain": [
              "0.8741061057216297"
            ]
          },
          "metadata": {},
          "execution_count": 64
        }
      ],
      "source": [
        "#Nilai regresi pada data test\n",
        "test = regr.score(X_train, y_train)\n",
        "test"
      ]
    },
    {
      "cell_type": "code",
      "execution_count": null,
      "id": "e8650a48",
      "metadata": {
        "colab": {
          "base_uri": "https://localhost:8080/"
        },
        "id": "e8650a48",
        "outputId": "c930e130-9b3e-4216-ac99-6c5f3e410b1e"
      },
      "outputs": [
        {
          "output_type": "stream",
          "name": "stdout",
          "text": [
            "Accuracy from the model: 89.75927343820402\n"
          ]
        }
      ],
      "source": [
        "#Nilai akurasi \n",
        "accuracy = 1 - abs(test-pred)\n",
        "print(\"Accuracy from the model:\",accuracy*100)"
      ]
    },
    {
      "cell_type": "markdown",
      "id": "5ea09a15",
      "metadata": {
        "id": "5ea09a15"
      },
      "source": [
        "## SVM"
      ]
    },
    {
      "cell_type": "code",
      "execution_count": null,
      "id": "71117d0c",
      "metadata": {
        "colab": {
          "base_uri": "https://localhost:8080/"
        },
        "id": "71117d0c",
        "outputId": "17187c25-073f-4148-a3c9-f69323755951"
      },
      "outputs": [
        {
          "output_type": "execute_result",
          "data": {
            "text/plain": [
              "SVC(C=1000, gamma=0.001)"
            ]
          },
          "metadata": {},
          "execution_count": 66
        }
      ],
      "source": [
        "from sklearn.svm import SVC\n",
        "classifier = SVC(kernel='rbf', C=1000, gamma=0.001)\n",
        "classifier.fit(X=X_train, y=y_train)"
      ]
    },
    {
      "cell_type": "code",
      "execution_count": null,
      "id": "5658a85a",
      "metadata": {
        "colab": {
          "base_uri": "https://localhost:8080/"
        },
        "id": "5658a85a",
        "outputId": "2188ccd0-bda4-4cfe-f2d3-15c691b37c5f"
      },
      "outputs": [
        {
          "output_type": "execute_result",
          "data": {
            "text/plain": [
              "array([0, 0, 0, 0, 0, 0, 0, 0, 0, 0, 0, 0, 0, 0, 0, 0, 0, 0, 0, 0, 0, 0,\n",
              "       1, 0, 0, 0, 0, 0, 0, 1, 0, 0, 0, 0, 0, 0, 0, 0, 0, 0, 1, 0, 0, 0,\n",
              "       0, 0, 0, 0, 0, 0, 0, 0, 1, 0, 1, 0, 0, 0, 0, 0, 0, 0, 0, 0, 0, 1,\n",
              "       0, 0, 0, 0, 0, 1, 0, 0, 0, 0, 0, 0, 0, 0, 0, 0, 0, 0, 0, 1, 0, 0,\n",
              "       0, 1, 0, 1, 0, 0, 0, 0, 0, 0, 1, 1, 0, 0, 0, 0, 0, 0, 0, 0, 0, 0,\n",
              "       0, 0, 0, 0, 0, 0, 0, 0, 0, 0, 0, 0, 0, 0, 0, 1, 0, 0, 0, 0, 0, 1,\n",
              "       0, 0, 0, 0, 1, 0, 0, 0, 0, 0, 0, 0, 0, 0, 1, 1, 1, 0, 0, 1, 0, 0,\n",
              "       0, 1, 0, 0, 0, 0, 0, 0, 0, 0, 0, 0, 0, 0, 0, 0, 1, 0, 0, 0, 0, 1,\n",
              "       0, 0, 0, 0, 0, 0, 0, 0, 0, 0, 0, 0, 0, 0, 1, 1, 0, 0, 1, 0, 1, 0,\n",
              "       0, 0, 0, 1, 0, 0, 0, 0, 0, 1, 0, 0, 0, 0, 0, 0, 0, 1, 0, 0, 0, 0,\n",
              "       0, 1, 0, 0, 0, 0, 1, 0, 0, 0, 0, 1, 0, 0, 0, 0, 0, 0, 0, 0, 0, 0,\n",
              "       0, 0, 0, 1, 1, 0, 1, 0, 0, 0, 0, 0, 0, 0, 0, 0, 1, 0, 0, 1, 0, 0,\n",
              "       1, 1, 0, 1, 0, 0, 0, 0, 0, 1, 0, 1, 0, 0, 1, 0, 0, 0, 1, 0, 0, 0,\n",
              "       0, 1, 0, 1, 0, 0, 0, 0, 1, 0, 0, 0, 0, 1, 0, 0, 0, 0, 0, 1, 0, 1,\n",
              "       0, 0, 0, 0, 0, 0, 0, 0, 1, 1, 1, 0, 0, 0, 0, 0, 0, 0, 0, 0, 1, 0,\n",
              "       1, 0, 0, 0, 0, 0, 0, 0, 0, 0, 0, 0, 1, 0, 0, 0, 0, 0, 1, 0, 0, 1,\n",
              "       0, 0, 0, 1, 0, 1, 0, 0, 0, 0, 1, 0, 0, 0, 0, 0, 0, 0, 0, 0, 0, 1,\n",
              "       0, 0, 0, 0, 0, 0, 1, 0, 1, 0, 0, 0, 1, 0, 0, 0, 0, 0, 0, 0, 0, 1,\n",
              "       0, 0, 0, 0, 0, 1, 0, 1, 0, 0, 0, 0, 0, 0, 0, 0, 1, 0, 0, 0, 1, 1,\n",
              "       0, 0, 0, 0, 0, 0, 0, 0, 0, 0, 0, 0, 1, 0, 0, 0, 0, 0, 1, 0, 0, 0,\n",
              "       1, 0, 0, 0, 0, 0, 0, 1, 0, 0, 0, 0, 0, 1, 0, 0, 0, 0, 0, 1, 0, 0,\n",
              "       0, 1, 0, 0, 0, 0, 0, 0, 0, 1, 0, 0, 0, 0, 0, 1, 0, 1, 0, 0, 0, 0,\n",
              "       0, 0, 0, 0, 0, 0, 0, 0, 0, 0, 1, 0, 0, 0, 0, 0, 0, 0, 1, 0, 0, 0,\n",
              "       1, 0, 0, 0, 0, 0, 0, 0, 0, 0, 0, 0, 0, 0, 0, 1, 0, 0, 0, 0, 0, 1,\n",
              "       0, 1, 0, 0, 0, 0, 0, 0, 1, 0, 0, 0, 0, 0, 1, 0, 0, 0, 0, 0, 0, 0,\n",
              "       0, 1, 0, 0, 0, 0, 0, 0, 1, 0, 0, 0, 1, 0, 0, 0, 0, 0, 0, 1, 0, 0,\n",
              "       0, 0, 0, 0, 0, 0, 0, 0, 0, 0, 0, 0, 0, 1, 0, 0, 0, 0, 0, 0, 0, 0,\n",
              "       0, 0, 0, 1, 0, 0, 0, 1, 1, 0, 0, 0, 0, 0, 0, 0, 1, 1, 0, 0, 1, 0,\n",
              "       0, 0, 0, 0, 1, 0, 0, 0, 0, 0, 0, 0, 0, 1, 0, 0, 0, 1, 0, 0, 0, 0,\n",
              "       0, 1, 1, 1, 0, 0, 0, 0, 1, 0, 1, 0, 0, 0, 1, 0, 0, 0, 0, 1, 1, 0,\n",
              "       0, 0, 1, 0, 0, 1, 0, 0, 1, 0, 1, 0, 0, 0, 0, 1, 0, 0, 0, 0, 0, 0,\n",
              "       0, 1, 0, 0, 0, 0, 0, 1, 0, 0, 1, 0, 0, 0, 1, 0, 0, 0, 0, 0, 0, 0,\n",
              "       1, 0, 0, 0, 0, 0, 0, 1, 0, 0, 0, 1, 0, 0, 0, 0, 0, 0, 0, 0, 0, 0,\n",
              "       0, 0, 0, 0, 0, 1, 0, 0, 0, 0, 0, 0, 0, 0, 0, 0, 1, 0, 0, 1, 0, 0,\n",
              "       0, 0, 0, 0, 0, 0, 0, 1, 1, 0, 0, 1, 0, 1, 0, 0, 0, 0, 0, 0, 0, 0,\n",
              "       0, 0, 0, 0, 1, 0, 1, 0, 0, 0, 1, 0, 0, 0, 0, 0, 0, 0, 0, 1, 0, 0,\n",
              "       0, 0, 1, 0, 0, 0, 1, 0, 0, 0, 0, 0, 0, 0, 0, 0, 0, 0, 0, 1, 0, 0,\n",
              "       0, 0, 0, 0, 0, 1, 0, 0, 0, 0, 0, 0, 1, 1, 0, 0, 0, 0, 0, 0, 1, 0,\n",
              "       0, 0, 0, 0, 0, 1, 0, 0, 0, 0, 0, 0, 0, 0, 0, 0, 1, 1, 0, 0, 0, 0,\n",
              "       0, 1, 0, 0, 0, 0, 0, 0, 1, 0, 0, 0, 0, 0, 0, 0, 0, 0, 0, 0, 1, 0,\n",
              "       0, 0, 0, 0, 0, 0, 0, 1, 1, 1, 0, 0, 1, 1, 0, 0, 0, 0, 0, 1, 0, 0,\n",
              "       0, 0, 0, 0, 1, 0, 0, 0, 0, 0, 0, 0, 0, 0, 0, 0, 0, 1, 0, 1, 1, 0,\n",
              "       0, 0, 0, 0, 0, 0, 0, 1, 1, 0, 1, 0, 0, 0, 0, 0, 0, 1, 0, 0, 0, 0,\n",
              "       0, 0, 0, 0, 0, 1, 0, 0, 1, 1, 0, 0, 0, 0, 1, 0, 0, 1, 0, 0, 0, 0,\n",
              "       1, 0, 0, 0, 0, 1, 0, 0, 1, 0, 1, 0, 1, 0, 0, 0])"
            ]
          },
          "metadata": {},
          "execution_count": 67
        }
      ],
      "source": [
        "y_pred = classifier.predict(X=X_test)\n",
        "y_pred"
      ]
    },
    {
      "cell_type": "code",
      "execution_count": null,
      "id": "c5c1fce1",
      "metadata": {
        "colab": {
          "base_uri": "https://localhost:8080/"
        },
        "id": "c5c1fce1",
        "outputId": "f3c61bab-e461-446c-9838-2a35b7da5ce5"
      },
      "outputs": [
        {
          "output_type": "stream",
          "name": "stdout",
          "text": [
            "[[785  18]\n",
            " [ 28 153]]\n",
            "              precision    recall  f1-score   support\n",
            "\n",
            "           0       0.97      0.98      0.97       803\n",
            "           1       0.89      0.85      0.87       181\n",
            "\n",
            "    accuracy                           0.95       984\n",
            "   macro avg       0.93      0.91      0.92       984\n",
            "weighted avg       0.95      0.95      0.95       984\n",
            "\n"
          ]
        },
        {
          "output_type": "execute_result",
          "data": {
            "text/plain": [
              "0.9532520325203252"
            ]
          },
          "metadata": {},
          "execution_count": 68
        }
      ],
      "source": [
        "from sklearn.metrics import classification_report, confusion_matrix, accuracy_score\n",
        "\n",
        "print(confusion_matrix(y_test, y_pred))\n",
        "print(classification_report(y_test, y_pred))\n",
        "accuracy_score(y_true=y_test, y_pred=y_pred)"
      ]
    },
    {
      "cell_type": "markdown",
      "id": "b35a1b0d",
      "metadata": {
        "id": "b35a1b0d"
      },
      "source": [
        "The best model for this data is Random forest"
      ]
    },
    {
      "cell_type": "markdown",
      "id": "80ea111e",
      "metadata": {
        "id": "80ea111e"
      },
      "source": [
        "# Load Test Data"
      ]
    },
    {
      "cell_type": "code",
      "execution_count": null,
      "id": "418b1f14",
      "metadata": {
        "id": "418b1f14"
      },
      "outputs": [],
      "source": [
        "data_test = pd.read_csv(\"test_dataset.csv\")"
      ]
    },
    {
      "cell_type": "code",
      "execution_count": null,
      "id": "12550f16",
      "metadata": {
        "colab": {
          "base_uri": "https://localhost:8080/"
        },
        "id": "12550f16",
        "outputId": "baa23b8c-0d59-458c-99d7-ee2e282aca8b"
      },
      "outputs": [
        {
          "output_type": "stream",
          "name": "stdout",
          "text": [
            "<class 'pandas.core.frame.DataFrame'>\n",
            "RangeIndex: 1407 entries, 0 to 1406\n",
            "Data columns (total 32 columns):\n",
            " #   Column                        Non-Null Count  Dtype  \n",
            "---  ------                        --------------  -----  \n",
            " 0   Absolute Magnitude            1407 non-null   float64\n",
            " 1   Est Dia in KM(min)            1407 non-null   float64\n",
            " 2   Est Dia in KM(max)            1407 non-null   float64\n",
            " 3   Est Dia in M(min)             1407 non-null   float64\n",
            " 4   Est Dia in M(max)             1407 non-null   float64\n",
            " 5   Est Dia in Miles(min)         1407 non-null   float64\n",
            " 6   Est Dia in Miles(max)         1407 non-null   float64\n",
            " 7   Est Dia in Feet(min)          1407 non-null   float64\n",
            " 8   Est Dia in Feet(max)          1407 non-null   float64\n",
            " 9   Relative Velocity km per sec  1407 non-null   float64\n",
            " 10  Relative Velocity km per hr   1407 non-null   float64\n",
            " 11  Miles per hour                1407 non-null   float64\n",
            " 12  Miss Dist.(Astronomical)      1407 non-null   float64\n",
            " 13  Miss Dist.(lunar)             1407 non-null   float64\n",
            " 14  Miss Dist.(kilometers)        1407 non-null   float64\n",
            " 15  Miss Dist.(miles)             1407 non-null   float64\n",
            " 16  Orbit ID                      1407 non-null   int64  \n",
            " 17  Orbit Uncertainity            1407 non-null   int64  \n",
            " 18  Minimum Orbit Intersection    1407 non-null   float64\n",
            " 19  Jupiter Tisserand Invariant   1407 non-null   float64\n",
            " 20  Epoch Osculation              1407 non-null   float64\n",
            " 21  Eccentricity                  1407 non-null   float64\n",
            " 22  Semi Major Axis               1407 non-null   float64\n",
            " 23  Inclination                   1407 non-null   float64\n",
            " 24  Asc Node Longitude            1407 non-null   float64\n",
            " 25  Orbital Period                1407 non-null   float64\n",
            " 26  Perihelion Distance           1407 non-null   float64\n",
            " 27  Perihelion Arg                1407 non-null   float64\n",
            " 28  Aphelion Dist                 1407 non-null   float64\n",
            " 29  Perihelion Time               1407 non-null   float64\n",
            " 30  Mean Anomaly                  1407 non-null   float64\n",
            " 31  Mean Motion                   1407 non-null   float64\n",
            "dtypes: float64(30), int64(2)\n",
            "memory usage: 351.9 KB\n"
          ]
        }
      ],
      "source": [
        "data_test.info()"
      ]
    },
    {
      "cell_type": "markdown",
      "id": "9698ff62",
      "metadata": {
        "id": "9698ff62"
      },
      "source": [
        "There are no missing values"
      ]
    },
    {
      "cell_type": "code",
      "execution_count": null,
      "id": "d7b3e1d8",
      "metadata": {
        "id": "d7b3e1d8"
      },
      "outputs": [],
      "source": [
        "data_test = scaler.transform(data_test)"
      ]
    },
    {
      "cell_type": "code",
      "execution_count": null,
      "id": "f993da21",
      "metadata": {
        "id": "f993da21"
      },
      "outputs": [],
      "source": [
        "data_target = forest_clf.predict(data_test)"
      ]
    },
    {
      "cell_type": "code",
      "execution_count": null,
      "id": "c0f24300",
      "metadata": {
        "colab": {
          "base_uri": "https://localhost:8080/",
          "height": 34
        },
        "id": "c0f24300",
        "outputId": "2f30d2cb-14ff-4bb1-92e8-bc7ab5f246c3"
      },
      "outputs": [
        {
          "output_type": "display_data",
          "data": {
            "text/plain": [
              "<IPython.core.display.Javascript object>"
            ],
            "application/javascript": [
              "\n",
              "    async function download(id, filename, size) {\n",
              "      if (!google.colab.kernel.accessAllowed) {\n",
              "        return;\n",
              "      }\n",
              "      const div = document.createElement('div');\n",
              "      const label = document.createElement('label');\n",
              "      label.textContent = `Downloading \"${filename}\": `;\n",
              "      div.appendChild(label);\n",
              "      const progress = document.createElement('progress');\n",
              "      progress.max = size;\n",
              "      div.appendChild(progress);\n",
              "      document.body.appendChild(div);\n",
              "\n",
              "      const buffers = [];\n",
              "      let downloaded = 0;\n",
              "\n",
              "      const channel = await google.colab.kernel.comms.open(id);\n",
              "      // Send a message to notify the kernel that we're ready.\n",
              "      channel.send({})\n",
              "\n",
              "      for await (const message of channel.messages) {\n",
              "        // Send a message to notify the kernel that we're ready.\n",
              "        channel.send({})\n",
              "        if (message.buffers) {\n",
              "          for (const buffer of message.buffers) {\n",
              "            buffers.push(buffer);\n",
              "            downloaded += buffer.byteLength;\n",
              "            progress.value = downloaded;\n",
              "          }\n",
              "        }\n",
              "      }\n",
              "      const blob = new Blob(buffers, {type: 'application/binary'});\n",
              "      const a = document.createElement('a');\n",
              "      a.href = window.URL.createObjectURL(blob);\n",
              "      a.download = filename;\n",
              "      div.appendChild(a);\n",
              "      a.click();\n",
              "      div.remove();\n",
              "    }\n",
              "  "
            ]
          },
          "metadata": {}
        },
        {
          "output_type": "display_data",
          "data": {
            "text/plain": [
              "<IPython.core.display.Javascript object>"
            ],
            "application/javascript": [
              "download(\"download_68fb187e-c206-4b9c-b778-97ccacdb3710\", \"submission.csv\", 2824)"
            ]
          },
          "metadata": {}
        }
      ],
      "source": [
        "res = pd.DataFrame(data_target) # target are nothing but the final predictions of your model on input features of your new unseen test data\n",
        "res.columns = [\"Hazardous\"]\n",
        "\n",
        "# To download the csv file locally\n",
        "from google.colab import files\n",
        "res.to_csv('submission.csv', index = False)\n",
        "files.download('submission.csv')"
      ]
    },
    {
      "cell_type": "code",
      "execution_count": null,
      "id": "3c6d6c9a",
      "metadata": {
        "id": "3c6d6c9a"
      },
      "outputs": [],
      "source": []
    }
  ],
  "metadata": {
    "kernelspec": {
      "display_name": "Python 3",
      "language": "python",
      "name": "python3"
    },
    "language_info": {
      "codemirror_mode": {
        "name": "ipython",
        "version": 3
      },
      "file_extension": ".py",
      "mimetype": "text/x-python",
      "name": "python",
      "nbconvert_exporter": "python",
      "pygments_lexer": "ipython3",
      "version": "3.8.8"
    },
    "colab": {
      "provenance": []
    }
  },
  "nbformat": 4,
  "nbformat_minor": 5
}